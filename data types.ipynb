{
 "cells": [
  {
   "cell_type": "markdown",
   "id": "026d07b5",
   "metadata": {},
   "source": [
    "## string"
   ]
  },
  {
   "cell_type": "code",
   "execution_count": 3,
   "id": "a2a3fbe1",
   "metadata": {},
   "outputs": [
    {
     "data": {
      "text/plain": [
       "'asus'"
      ]
     },
     "execution_count": 3,
     "metadata": {},
     "output_type": "execute_result"
    }
   ],
   "source": [
    "laptop=\"asus\"\n",
    "laptop"
   ]
  },
  {
   "cell_type": "code",
   "execution_count": 4,
   "id": "6f1817e2",
   "metadata": {},
   "outputs": [
    {
     "data": {
      "text/plain": [
       "str"
      ]
     },
     "execution_count": 4,
     "metadata": {},
     "output_type": "execute_result"
    }
   ],
   "source": [
    "type(laptop)"
   ]
  },
  {
   "cell_type": "code",
   "execution_count": 9,
   "id": "db01d04e",
   "metadata": {},
   "outputs": [],
   "source": [
    "#help(str)"
   ]
  },
  {
   "cell_type": "markdown",
   "id": "6815fbf7",
   "metadata": {},
   "source": [
    "## list"
   ]
  },
  {
   "cell_type": "code",
   "execution_count": 15,
   "id": "25faac1a",
   "metadata": {},
   "outputs": [
    {
     "data": {
      "text/plain": [
       "['shaiju', 'sajitha', 'sreya', 'leela', 'theja']"
      ]
     },
     "execution_count": 15,
     "metadata": {},
     "output_type": "execute_result"
    }
   ],
   "source": [
    "familyMembers=[\"shaiju\",\"sajitha\",\"sreya\",\"leela\",\"theja\"]\n",
    "familyMembers"
   ]
  },
  {
   "cell_type": "code",
   "execution_count": 16,
   "id": "6f61d020",
   "metadata": {},
   "outputs": [
    {
     "data": {
      "text/plain": [
       "'sajitha'"
      ]
     },
     "execution_count": 16,
     "metadata": {},
     "output_type": "execute_result"
    }
   ],
   "source": [
    "familyMembers[1]"
   ]
  },
  {
   "cell_type": "code",
   "execution_count": 17,
   "id": "75f25c17",
   "metadata": {},
   "outputs": [
    {
     "data": {
      "text/plain": [
       "['sajitha', 'sreya', 'leela']"
      ]
     },
     "execution_count": 17,
     "metadata": {},
     "output_type": "execute_result"
    }
   ],
   "source": [
    "familyMembers[1:4]"
   ]
  },
  {
   "cell_type": "code",
   "execution_count": 19,
   "id": "3fd5e8b2",
   "metadata": {},
   "outputs": [
    {
     "data": {
      "text/plain": [
       "[]"
      ]
     },
     "execution_count": 19,
     "metadata": {},
     "output_type": "execute_result"
    }
   ],
   "source": [
    "familyMembers[-2:-4]"
   ]
  },
  {
   "cell_type": "code",
   "execution_count": 20,
   "id": "1f8f171c",
   "metadata": {},
   "outputs": [
    {
     "data": {
      "text/plain": [
       "[]"
      ]
     },
     "execution_count": 20,
     "metadata": {},
     "output_type": "execute_result"
    }
   ],
   "source": [
    "familyMembers[-1:1]"
   ]
  },
  {
   "cell_type": "code",
   "execution_count": 21,
   "id": "bfa8b217",
   "metadata": {},
   "outputs": [
    {
     "data": {
      "text/plain": [
       "['sajitha', 'sreya', 'leela']"
      ]
     },
     "execution_count": 21,
     "metadata": {},
     "output_type": "execute_result"
    }
   ],
   "source": [
    "familyMembers[-4:-1]"
   ]
  },
  {
   "cell_type": "code",
   "execution_count": 23,
   "id": "887db437",
   "metadata": {},
   "outputs": [
    {
     "data": {
      "text/plain": [
       "'issem lanoel'"
      ]
     },
     "execution_count": 23,
     "metadata": {},
     "output_type": "execute_result"
    }
   ],
   "source": [
    "player=\"leonal messi\"\n",
    "player[::-1]"
   ]
  },
  {
   "cell_type": "code",
   "execution_count": 24,
   "id": "5d782794",
   "metadata": {},
   "outputs": [
    {
     "data": {
      "text/plain": [
       "'leonal mess'"
      ]
     },
     "execution_count": 24,
     "metadata": {},
     "output_type": "execute_result"
    }
   ],
   "source": [
    "player[:-1]"
   ]
  },
  {
   "cell_type": "code",
   "execution_count": 25,
   "id": "4907ce9d",
   "metadata": {},
   "outputs": [
    {
     "data": {
      "text/plain": [
       "['shaiju', 'leela']"
      ]
     },
     "execution_count": 25,
     "metadata": {},
     "output_type": "execute_result"
    }
   ],
   "source": [
    "familyMembers[::3]"
   ]
  },
  {
   "cell_type": "code",
   "execution_count": 27,
   "id": "e1a6e58f",
   "metadata": {},
   "outputs": [
    {
     "data": {
      "text/plain": [
       "['shaiju', 'sreya', 'theja']"
      ]
     },
     "execution_count": 27,
     "metadata": {},
     "output_type": "execute_result"
    }
   ],
   "source": [
    "familyMembers[0:6:2]"
   ]
  },
  {
   "cell_type": "code",
   "execution_count": 28,
   "id": "c8bf7943",
   "metadata": {},
   "outputs": [
    {
     "data": {
      "text/plain": [
       "'theja'"
      ]
     },
     "execution_count": 28,
     "metadata": {},
     "output_type": "execute_result"
    }
   ],
   "source": [
    "familyMembers.pop()"
   ]
  },
  {
   "cell_type": "code",
   "execution_count": 29,
   "id": "1cad3bf7",
   "metadata": {},
   "outputs": [
    {
     "data": {
      "text/plain": [
       "['shaiju', 'sajitha', 'sreya', 'leela']"
      ]
     },
     "execution_count": 29,
     "metadata": {},
     "output_type": "execute_result"
    }
   ],
   "source": [
    "familyMembers"
   ]
  },
  {
   "cell_type": "markdown",
   "id": "9487569b",
   "metadata": {},
   "source": [
    "## arithmetic operators"
   ]
  },
  {
   "cell_type": "code",
   "execution_count": 1,
   "id": "75275e74",
   "metadata": {},
   "outputs": [
    {
     "data": {
      "text/plain": [
       "7670"
      ]
     },
     "execution_count": 1,
     "metadata": {},
     "output_type": "execute_result"
    }
   ],
   "source": [
    "a=3345+4325\n",
    "a"
   ]
  },
  {
   "cell_type": "code",
   "execution_count": 2,
   "id": "3f7903a8",
   "metadata": {},
   "outputs": [
    {
     "data": {
      "text/plain": [
       "4909"
      ]
     },
     "execution_count": 2,
     "metadata": {},
     "output_type": "execute_result"
    }
   ],
   "source": [
    "5674-765"
   ]
  },
  {
   "cell_type": "code",
   "execution_count": 6,
   "id": "70e4dffa",
   "metadata": {},
   "outputs": [
    {
     "data": {
      "text/plain": [
       "2726784"
      ]
     },
     "execution_count": 6,
     "metadata": {},
     "output_type": "execute_result"
    }
   ],
   "source": [
    "3456*789\n",
    "#asterist"
   ]
  },
  {
   "cell_type": "code",
   "execution_count": 3,
   "id": "5de2bcd8",
   "metadata": {},
   "outputs": [
    {
     "data": {
      "text/plain": [
       "76.92307692307692"
      ]
     },
     "execution_count": 3,
     "metadata": {},
     "output_type": "execute_result"
    }
   ],
   "source": [
    "1000/13"
   ]
  },
  {
   "cell_type": "code",
   "execution_count": 7,
   "id": "2e88e379",
   "metadata": {},
   "outputs": [
    {
     "data": {
      "text/plain": [
       "76"
      ]
     },
     "execution_count": 7,
     "metadata": {},
     "output_type": "execute_result"
    }
   ],
   "source": [
    "1000//13\n",
    "#floor division"
   ]
  },
  {
   "cell_type": "code",
   "execution_count": 8,
   "id": "4d3938a1",
   "metadata": {},
   "outputs": [
    {
     "data": {
      "text/plain": [
       "1"
      ]
     },
     "execution_count": 8,
     "metadata": {},
     "output_type": "execute_result"
    }
   ],
   "source": [
    "10%3\n",
    "#modulus"
   ]
  },
  {
   "cell_type": "code",
   "execution_count": 9,
   "id": "50c05d95",
   "metadata": {},
   "outputs": [
    {
     "data": {
      "text/plain": [
       "10000000000"
      ]
     },
     "execution_count": 9,
     "metadata": {},
     "output_type": "execute_result"
    }
   ],
   "source": [
    "10**10\n",
    "#expomemtial/powers"
   ]
  },
  {
   "cell_type": "markdown",
   "id": "14af54d8",
   "metadata": {},
   "source": [
    "## assignment operators"
   ]
  },
  {
   "cell_type": "code",
   "execution_count": 10,
   "id": "d68cc317",
   "metadata": {},
   "outputs": [],
   "source": [
    "# =,* defines assin operators"
   ]
  },
  {
   "cell_type": "code",
   "execution_count": 12,
   "id": "1ee4e518",
   "metadata": {},
   "outputs": [],
   "source": [
    "c= 5"
   ]
  },
  {
   "cell_type": "code",
   "execution_count": 13,
   "id": "55c0836b",
   "metadata": {},
   "outputs": [],
   "source": [
    "c= c*c"
   ]
  },
  {
   "cell_type": "code",
   "execution_count": 14,
   "id": "0ae62c0f",
   "metadata": {},
   "outputs": [
    {
     "data": {
      "text/plain": [
       "25"
      ]
     },
     "execution_count": 14,
     "metadata": {},
     "output_type": "execute_result"
    }
   ],
   "source": [
    "c"
   ]
  },
  {
   "cell_type": "code",
   "execution_count": null,
   "id": "22d53d9e",
   "metadata": {},
   "outputs": [],
   "source": [
    "d"
   ]
  },
  {
   "cell_type": "code",
   "execution_count": 15,
   "id": "9653f95c",
   "metadata": {},
   "outputs": [],
   "source": [
    "c =c*c"
   ]
  },
  {
   "cell_type": "code",
   "execution_count": 16,
   "id": "cfde24a1",
   "metadata": {},
   "outputs": [
    {
     "data": {
      "text/plain": [
       "625"
      ]
     },
     "execution_count": 16,
     "metadata": {},
     "output_type": "execute_result"
    }
   ],
   "source": [
    "c"
   ]
  },
  {
   "cell_type": "code",
   "execution_count": 21,
   "id": "06639dac",
   "metadata": {},
   "outputs": [
    {
     "data": {
      "text/plain": [
       "165"
      ]
     },
     "execution_count": 21,
     "metadata": {},
     "output_type": "execute_result"
    }
   ],
   "source": [
    "f= 200\n",
    "f= f-35\n",
    "f"
   ]
  },
  {
   "cell_type": "code",
   "execution_count": null,
   "id": "4b3957aa",
   "metadata": {},
   "outputs": [],
   "source": [
    "f=200"
   ]
  },
  {
   "cell_type": "code",
   "execution_count": null,
   "id": "dca5440e",
   "metadata": {},
   "outputs": [],
   "source": [
    "f=f-35"
   ]
  },
  {
   "cell_type": "code",
   "execution_count": 22,
   "id": "80af15bb",
   "metadata": {},
   "outputs": [
    {
     "data": {
      "text/plain": [
       "165"
      ]
     },
     "execution_count": 22,
     "metadata": {},
     "output_type": "execute_result"
    }
   ],
   "source": [
    "f"
   ]
  },
  {
   "cell_type": "code",
   "execution_count": 28,
   "id": "a6dfe413",
   "metadata": {},
   "outputs": [],
   "source": [
    "e= 444444667\n"
   ]
  },
  {
   "cell_type": "code",
   "execution_count": 61,
   "id": "5b00ea47",
   "metadata": {},
   "outputs": [],
   "source": [
    "e= e+37897"
   ]
  },
  {
   "cell_type": "code",
   "execution_count": 62,
   "id": "160f9343",
   "metadata": {},
   "outputs": [
    {
     "data": {
      "text/plain": [
       "444482564"
      ]
     },
     "execution_count": 62,
     "metadata": {},
     "output_type": "execute_result"
    }
   ],
   "source": [
    "e"
   ]
  },
  {
   "cell_type": "code",
   "execution_count": null,
   "id": "ae90ea40",
   "metadata": {},
   "outputs": [],
   "source": []
  },
  {
   "cell_type": "markdown",
   "id": "762cf26f",
   "metadata": {},
   "source": [
    "## comparison opr"
   ]
  },
  {
   "cell_type": "markdown",
   "id": "69e482e9",
   "metadata": {},
   "source": [
    "## =="
   ]
  },
  {
   "cell_type": "code",
   "execution_count": 23,
   "id": "45a6fdcb",
   "metadata": {},
   "outputs": [
    {
     "data": {
      "text/plain": [
       "False"
      ]
     },
     "execution_count": 23,
     "metadata": {},
     "output_type": "execute_result"
    }
   ],
   "source": [
    "a=10\n",
    "b=20\n",
    "a==b"
   ]
  },
  {
   "cell_type": "code",
   "execution_count": 29,
   "id": "ff4a820d",
   "metadata": {},
   "outputs": [],
   "source": [
    "name='theja'\n"
   ]
  },
  {
   "cell_type": "code",
   "execution_count": 30,
   "id": "6634b945",
   "metadata": {},
   "outputs": [],
   "source": [
    "name2='theja'\n"
   ]
  },
  {
   "cell_type": "code",
   "execution_count": 31,
   "id": "c6626ecb",
   "metadata": {},
   "outputs": [
    {
     "data": {
      "text/plain": [
       "True"
      ]
     },
     "execution_count": 31,
     "metadata": {},
     "output_type": "execute_result"
    }
   ],
   "source": [
    "name==name2"
   ]
  },
  {
   "cell_type": "code",
   "execution_count": null,
   "id": "22a2313d",
   "metadata": {},
   "outputs": [],
   "source": [
    "<\n",
    ">"
   ]
  },
  {
   "cell_type": "code",
   "execution_count": 32,
   "id": "3417d8c0",
   "metadata": {},
   "outputs": [],
   "source": [
    "a=20\n",
    "b=30"
   ]
  },
  {
   "cell_type": "code",
   "execution_count": 33,
   "id": "fd279391",
   "metadata": {},
   "outputs": [
    {
     "data": {
      "text/plain": [
       "False"
      ]
     },
     "execution_count": 33,
     "metadata": {},
     "output_type": "execute_result"
    }
   ],
   "source": [
    "a>b"
   ]
  },
  {
   "cell_type": "code",
   "execution_count": 34,
   "id": "eedc2acd",
   "metadata": {},
   "outputs": [
    {
     "data": {
      "text/plain": [
       "True"
      ]
     },
     "execution_count": 34,
     "metadata": {},
     "output_type": "execute_result"
    }
   ],
   "source": [
    "b>a"
   ]
  },
  {
   "cell_type": "code",
   "execution_count": 38,
   "id": "5adbdc37",
   "metadata": {},
   "outputs": [],
   "source": [
    "c='theja'\n",
    "d='sajitha'"
   ]
  },
  {
   "cell_type": "code",
   "execution_count": 37,
   "id": "f4934b36",
   "metadata": {},
   "outputs": [
    {
     "data": {
      "text/plain": [
       "True"
      ]
     },
     "execution_count": 37,
     "metadata": {},
     "output_type": "execute_result"
    }
   ],
   "source": [
    "c>d"
   ]
  },
  {
   "cell_type": "code",
   "execution_count": null,
   "id": "d771111a",
   "metadata": {},
   "outputs": [],
   "source": [
    "a=10\n",
    "b=20"
   ]
  },
  {
   "cell_type": "code",
   "execution_count": 39,
   "id": "b2b77736",
   "metadata": {},
   "outputs": [
    {
     "data": {
      "text/plain": [
       "False"
      ]
     },
     "execution_count": 39,
     "metadata": {},
     "output_type": "execute_result"
    }
   ],
   "source": [
    "a>=b"
   ]
  },
  {
   "cell_type": "code",
   "execution_count": 40,
   "id": "2d453958",
   "metadata": {},
   "outputs": [
    {
     "data": {
      "text/plain": [
       "True"
      ]
     },
     "execution_count": 40,
     "metadata": {},
     "output_type": "execute_result"
    }
   ],
   "source": [
    "a<=b"
   ]
  },
  {
   "cell_type": "code",
   "execution_count": 50,
   "id": "9f40b4c8",
   "metadata": {},
   "outputs": [],
   "source": [
    "c=40\n",
    "d=40"
   ]
  },
  {
   "cell_type": "code",
   "execution_count": 51,
   "id": "5f90a36f",
   "metadata": {},
   "outputs": [
    {
     "data": {
      "text/plain": [
       "False"
      ]
     },
     "execution_count": 51,
     "metadata": {},
     "output_type": "execute_result"
    }
   ],
   "source": [
    "c>=42"
   ]
  },
  {
   "cell_type": "markdown",
   "id": "0afcaabf",
   "metadata": {},
   "source": [
    "## logical operators"
   ]
  },
  {
   "cell_type": "markdown",
   "id": "5c51688b",
   "metadata": {},
   "source": [
    "## and"
   ]
  },
  {
   "cell_type": "code",
   "execution_count": 71,
   "id": "a0ad2265",
   "metadata": {},
   "outputs": [
    {
     "ename": "SyntaxError",
     "evalue": "invalid syntax (2073553165.py, line 1)",
     "output_type": "error",
     "traceback": [
      "\u001b[1;36m  Cell \u001b[1;32mIn[71], line 1\u001b[1;36m\u001b[0m\n\u001b[1;33m    and\u001b[0m\n\u001b[1;37m    ^\u001b[0m\n\u001b[1;31mSyntaxError\u001b[0m\u001b[1;31m:\u001b[0m invalid syntax\n"
     ]
    }
   ],
   "source": [
    "and\n",
    "true and true=true\n",
    "true and false=fls\n",
    "fls and true=fls\n",
    "fls and fls=fls"
   ]
  },
  {
   "cell_type": "code",
   "execution_count": null,
   "id": "fc1f0372",
   "metadata": {},
   "outputs": [],
   "source": []
  },
  {
   "cell_type": "code",
   "execution_count": 52,
   "id": "b222902a",
   "metadata": {},
   "outputs": [],
   "source": [
    "a=10\n",
    "b=20"
   ]
  },
  {
   "cell_type": "code",
   "execution_count": 53,
   "id": "42bd5c28",
   "metadata": {},
   "outputs": [
    {
     "data": {
      "text/plain": [
       "True"
      ]
     },
     "execution_count": 53,
     "metadata": {},
     "output_type": "execute_result"
    }
   ],
   "source": [
    "a==10"
   ]
  },
  {
   "cell_type": "code",
   "execution_count": 54,
   "id": "22296d6d",
   "metadata": {},
   "outputs": [
    {
     "data": {
      "text/plain": [
       "True"
      ]
     },
     "execution_count": 54,
     "metadata": {},
     "output_type": "execute_result"
    }
   ],
   "source": [
    "b==20"
   ]
  },
  {
   "cell_type": "code",
   "execution_count": 55,
   "id": "222aff9e",
   "metadata": {},
   "outputs": [
    {
     "data": {
      "text/plain": [
       "True"
      ]
     },
     "execution_count": 55,
     "metadata": {},
     "output_type": "execute_result"
    }
   ],
   "source": [
    "a==10 and b==20"
   ]
  },
  {
   "cell_type": "code",
   "execution_count": 56,
   "id": "aa2055dc",
   "metadata": {},
   "outputs": [
    {
     "data": {
      "text/plain": [
       "False"
      ]
     },
     "execution_count": 56,
     "metadata": {},
     "output_type": "execute_result"
    }
   ],
   "source": [
    "a==10 and b==30"
   ]
  },
  {
   "cell_type": "code",
   "execution_count": 64,
   "id": "df1fb538",
   "metadata": {},
   "outputs": [],
   "source": [
    "player1=\"sanju\"\n",
    "player2=\"dhoni\""
   ]
  },
  {
   "cell_type": "code",
   "execution_count": 58,
   "id": "63577ae7",
   "metadata": {},
   "outputs": [
    {
     "data": {
      "text/plain": [
       "True"
      ]
     },
     "execution_count": 58,
     "metadata": {},
     "output_type": "execute_result"
    }
   ],
   "source": [
    "player1==\"sanju\""
   ]
  },
  {
   "cell_type": "code",
   "execution_count": 65,
   "id": "6c2e9c83",
   "metadata": {},
   "outputs": [
    {
     "data": {
      "text/plain": [
       "False"
      ]
     },
     "execution_count": 65,
     "metadata": {},
     "output_type": "execute_result"
    }
   ],
   "source": [
    "player2==\"samson\""
   ]
  },
  {
   "cell_type": "code",
   "execution_count": 66,
   "id": "6ebfd127",
   "metadata": {},
   "outputs": [
    {
     "data": {
      "text/plain": [
       "False"
      ]
     },
     "execution_count": 66,
     "metadata": {},
     "output_type": "execute_result"
    }
   ],
   "source": [
    "player1==\"sanju\" and player2==\"samson\""
   ]
  },
  {
   "cell_type": "markdown",
   "id": "0f219d71",
   "metadata": {},
   "source": [
    "## or"
   ]
  },
  {
   "cell_type": "code",
   "execution_count": 67,
   "id": "285ae7c3",
   "metadata": {},
   "outputs": [],
   "source": [
    "b=10\n",
    "c=30"
   ]
  },
  {
   "cell_type": "code",
   "execution_count": 70,
   "id": "eb4418f3",
   "metadata": {},
   "outputs": [
    {
     "data": {
      "text/plain": [
       "True"
      ]
     },
     "execution_count": 70,
     "metadata": {},
     "output_type": "execute_result"
    }
   ],
   "source": [
    "b==10 or c==35\n",
    "#if one operation is ryt thn it is true"
   ]
  },
  {
   "cell_type": "markdown",
   "id": "043548e6",
   "metadata": {},
   "source": [
    "## not"
   ]
  },
  {
   "cell_type": "code",
   "execution_count": 73,
   "id": "312cf768",
   "metadata": {},
   "outputs": [
    {
     "data": {
      "text/plain": [
       "False"
      ]
     },
     "execution_count": 73,
     "metadata": {},
     "output_type": "execute_result"
    }
   ],
   "source": [
    "x=5\n",
    "not(x>3 and x<10)\n",
    "#inverse the real ans"
   ]
  },
  {
   "cell_type": "code",
   "execution_count": 74,
   "id": "c31a76de",
   "metadata": {},
   "outputs": [
    {
     "data": {
      "text/plain": [
       "True"
      ]
     },
     "execution_count": 74,
     "metadata": {},
     "output_type": "execute_result"
    }
   ],
   "source": [
    "not (x>6 and x<10)"
   ]
  },
  {
   "cell_type": "markdown",
   "id": "f2ee4df3",
   "metadata": {},
   "source": [
    "## identity operators"
   ]
  },
  {
   "cell_type": "markdown",
   "id": "425b1004",
   "metadata": {},
   "source": [
    "### is"
   ]
  },
  {
   "cell_type": "code",
   "execution_count": 75,
   "id": "a414d27d",
   "metadata": {},
   "outputs": [],
   "source": [
    "#compare"
   ]
  },
  {
   "cell_type": "code",
   "execution_count": 84,
   "id": "aa8bd4c4",
   "metadata": {},
   "outputs": [],
   "source": [
    "a=10\n",
    "b=a"
   ]
  },
  {
   "cell_type": "code",
   "execution_count": 85,
   "id": "22a08577",
   "metadata": {},
   "outputs": [],
   "source": [
    "a=b"
   ]
  },
  {
   "cell_type": "code",
   "execution_count": 81,
   "id": "81f09f6d",
   "metadata": {},
   "outputs": [
    {
     "data": {
      "text/plain": [
       "10"
      ]
     },
     "execution_count": 81,
     "metadata": {},
     "output_type": "execute_result"
    }
   ],
   "source": [
    "b"
   ]
  },
  {
   "cell_type": "code",
   "execution_count": 86,
   "id": "ec742861",
   "metadata": {},
   "outputs": [
    {
     "name": "stderr",
     "output_type": "stream",
     "text": [
      "<>:1: SyntaxWarning: \"is\" with a literal. Did you mean \"==\"?\n",
      "<>:1: SyntaxWarning: \"is\" with a literal. Did you mean \"==\"?\n",
      "C:\\Users\\theja\\AppData\\Local\\Temp\\ipykernel_13000\\1006509042.py:1: SyntaxWarning: \"is\" with a literal. Did you mean \"==\"?\n",
      "  b is 10\n"
     ]
    },
    {
     "data": {
      "text/plain": [
       "True"
      ]
     },
     "execution_count": 86,
     "metadata": {},
     "output_type": "execute_result"
    }
   ],
   "source": [
    "b is 10"
   ]
  },
  {
   "cell_type": "markdown",
   "id": "4496f4af",
   "metadata": {},
   "source": []
  },
  {
   "cell_type": "code",
   "execution_count": 83,
   "id": "009736ab",
   "metadata": {},
   "outputs": [
    {
     "name": "stderr",
     "output_type": "stream",
     "text": [
      "<>:1: SyntaxWarning: \"is\" with a literal. Did you mean \"==\"?\n",
      "<>:1: SyntaxWarning: \"is\" with a literal. Did you mean \"==\"?\n",
      "C:\\Users\\theja\\AppData\\Local\\Temp\\ipykernel_13000\\2365217341.py:1: SyntaxWarning: \"is\" with a literal. Did you mean \"==\"?\n",
      "  a is 10\n"
     ]
    },
    {
     "data": {
      "text/plain": [
       "True"
      ]
     },
     "execution_count": 83,
     "metadata": {},
     "output_type": "execute_result"
    }
   ],
   "source": [
    "a is 10"
   ]
  },
  {
   "cell_type": "code",
   "execution_count": 91,
   "id": "31c97070",
   "metadata": {},
   "outputs": [],
   "source": [
    "name=name1=[1,4,6]"
   ]
  },
  {
   "cell_type": "code",
   "execution_count": 88,
   "id": "22ed9d42",
   "metadata": {},
   "outputs": [
    {
     "data": {
      "text/plain": [
       "[1, 4, 6]"
      ]
     },
     "execution_count": 88,
     "metadata": {},
     "output_type": "execute_result"
    }
   ],
   "source": [
    "name"
   ]
  },
  {
   "cell_type": "code",
   "execution_count": 92,
   "id": "2a9b4604",
   "metadata": {},
   "outputs": [
    {
     "data": {
      "text/plain": [
       "[1, 4, 6]"
      ]
     },
     "execution_count": 92,
     "metadata": {},
     "output_type": "execute_result"
    }
   ],
   "source": [
    "name1"
   ]
  },
  {
   "cell_type": "code",
   "execution_count": 93,
   "id": "5d8742ee",
   "metadata": {},
   "outputs": [],
   "source": [
    "test=[1,4,6]"
   ]
  },
  {
   "cell_type": "code",
   "execution_count": 94,
   "id": "0c9cafb8",
   "metadata": {},
   "outputs": [
    {
     "data": {
      "text/plain": [
       "[1, 4, 6]"
      ]
     },
     "execution_count": 94,
     "metadata": {},
     "output_type": "execute_result"
    }
   ],
   "source": [
    "test"
   ]
  },
  {
   "cell_type": "code",
   "execution_count": 95,
   "id": "be6e274c",
   "metadata": {},
   "outputs": [
    {
     "data": {
      "text/plain": [
       "True"
      ]
     },
     "execution_count": 95,
     "metadata": {},
     "output_type": "execute_result"
    }
   ],
   "source": [
    "name is name1"
   ]
  },
  {
   "cell_type": "code",
   "execution_count": 100,
   "id": "cad1133d",
   "metadata": {},
   "outputs": [
    {
     "data": {
      "text/plain": [
       "False"
      ]
     },
     "execution_count": 100,
     "metadata": {},
     "output_type": "execute_result"
    }
   ],
   "source": [
    "name1 is test\n",
    "#test is given in another cell and not saved in same identity/location"
   ]
  },
  {
   "cell_type": "code",
   "execution_count": 101,
   "id": "3ab3cbcf",
   "metadata": {},
   "outputs": [],
   "source": [
    "#to find identity is \n",
    "#id(name)"
   ]
  },
  {
   "cell_type": "code",
   "execution_count": 102,
   "id": "2a6f6457",
   "metadata": {},
   "outputs": [
    {
     "data": {
      "text/plain": [
       "1626141804032"
      ]
     },
     "execution_count": 102,
     "metadata": {},
     "output_type": "execute_result"
    }
   ],
   "source": [
    "id(name1)"
   ]
  },
  {
   "cell_type": "code",
   "execution_count": 103,
   "id": "5dc827b8",
   "metadata": {},
   "outputs": [
    {
     "data": {
      "text/plain": [
       "1626142767040"
      ]
     },
     "execution_count": 103,
     "metadata": {},
     "output_type": "execute_result"
    }
   ],
   "source": [
    "id(test)"
   ]
  },
  {
   "cell_type": "markdown",
   "id": "1e97e68b",
   "metadata": {},
   "source": [
    "# conditions"
   ]
  },
  {
   "cell_type": "code",
   "execution_count": null,
   "id": "c4d3d187",
   "metadata": {},
   "outputs": [],
   "source": [
    "<\n",
    ">\n",
    ">=\n",
    "<=\n",
    "!=\n",
    "=="
   ]
  },
  {
   "cell_type": "markdown",
   "id": "b99cb90e",
   "metadata": {},
   "source": [
    "#### age"
   ]
  },
  {
   "cell_type": "code",
   "execution_count": 6,
   "id": "d3892cf1",
   "metadata": {},
   "outputs": [
    {
     "name": "stdout",
     "output_type": "stream",
     "text": [
      "you can come in\n"
     ]
    }
   ],
   "source": [
    "age=15\n",
    "#boolean condition\n",
    "if age>=13:\n",
    "    print(\"you can come in\")\n",
    "#this 2 lines are block of code\n",
    "else:\n",
    "    print(\"you cannot enter\")"
   ]
  },
  {
   "cell_type": "code",
   "execution_count": 43,
   "id": "ee963c40",
   "metadata": {},
   "outputs": [
    {
     "name": "stdout",
     "output_type": "stream",
     "text": [
      "you cannot enter 10\n"
     ]
    }
   ],
   "source": [
    "age=10\n",
    "#boolean condition\n",
    "if age>=13:\n",
    "    print(\"you can come in\",age)\n",
    "else:\n",
    "    print(\"you cannot enter\",age)"
   ]
  },
  {
   "cell_type": "markdown",
   "id": "81289f2d",
   "metadata": {},
   "source": [
    "### x"
   ]
  },
  {
   "cell_type": "code",
   "execution_count": 7,
   "id": "b0a780ea",
   "metadata": {},
   "outputs": [
    {
     "name": "stdout",
     "output_type": "stream",
     "text": [
      "there is no such value\n"
     ]
    }
   ],
   "source": [
    "x=10\n",
    "if x<10:\n",
    "    print(\"number is less than 10\")\n",
    "else:\n",
    "    print(\"there is no such value\")"
   ]
  },
  {
   "cell_type": "code",
   "execution_count": 8,
   "id": "6fb6f543",
   "metadata": {},
   "outputs": [
    {
     "name": "stdout",
     "output_type": "stream",
     "text": [
      "number is 10\n"
     ]
    }
   ],
   "source": [
    "x=10\n",
    "if x<10:\n",
    "    print(\"number is less than 10\")\n",
    "elif x==10:#true\n",
    "    print(\"number is 10\")\n",
    "else:\n",
    "    print(\"there is no such value\")"
   ]
  },
  {
   "cell_type": "code",
   "execution_count": 20,
   "id": "83cbff5a",
   "metadata": {},
   "outputs": [
    {
     "name": "stdout",
     "output_type": "stream",
     "text": [
      "number is 9\n"
     ]
    }
   ],
   "source": [
    "x=9\n",
    "if x>10:\n",
    "    print(\"number is less than ten\")\n",
    "elif x==9:\n",
    "    print(\"number is 9\")\n",
    "elif x==10:\n",
    "    print(\"number is 10\")\n",
    "else:\n",
    "    print(\"there is no such number\")"
   ]
  },
  {
   "cell_type": "markdown",
   "id": "4e558d11",
   "metadata": {},
   "source": [
    "### number"
   ]
  },
  {
   "cell_type": "code",
   "execution_count": 25,
   "id": "43cd72da",
   "metadata": {},
   "outputs": [
    {
     "name": "stdout",
     "output_type": "stream",
     "text": [
      "yup we got it\n"
     ]
    }
   ],
   "source": [
    "n=25\n",
    "if (n==25) or n<25:\n",
    "    print(\"yup we got it\")\n",
    "elif n==19:\n",
    "    print(\"number is 19\")\n",
    "else:\n",
    "    print(\"invalid number\")"
   ]
  },
  {
   "cell_type": "code",
   "execution_count": 26,
   "id": "7a43ca66",
   "metadata": {},
   "outputs": [
    {
     "name": "stdout",
     "output_type": "stream",
     "text": [
      "invalid number\n"
     ]
    }
   ],
   "source": [
    "n=26\n",
    "if (n==25) or n<25:\n",
    "    print(\"yup we got it\")\n",
    "elif n==19:\n",
    "    print(\"number is 19\")\n",
    "else:\n",
    "    print(\"invalid number\")"
   ]
  },
  {
   "cell_type": "code",
   "execution_count": 27,
   "id": "314bb20a",
   "metadata": {},
   "outputs": [
    {
     "name": "stdout",
     "output_type": "stream",
     "text": [
      "invalid number\n"
     ]
    }
   ],
   "source": [
    "n=20\n",
    "if (n==25) and n<25:\n",
    "    print(\"yup we got it\")\n",
    "elif n==19:\n",
    "    print(\"number is 19\")\n",
    "else:\n",
    "    print(\"invalid number\")"
   ]
  },
  {
   "cell_type": "markdown",
   "id": "3ce796f0",
   "metadata": {},
   "source": [
    "### age"
   ]
  },
  {
   "cell_type": "code",
   "execution_count": 10,
   "id": "2e31a127",
   "metadata": {},
   "outputs": [
    {
     "name": "stdout",
     "output_type": "stream",
     "text": [
      "how old are you? 21\n"
     ]
    },
    {
     "data": {
      "text/plain": [
       "21"
      ]
     },
     "execution_count": 10,
     "metadata": {},
     "output_type": "execute_result"
    }
   ],
   "source": [
    "age=int(input(\"how old are you? \"))\n",
    "age"
   ]
  },
  {
   "cell_type": "code",
   "execution_count": 11,
   "id": "fb7498fb",
   "metadata": {},
   "outputs": [
    {
     "name": "stdout",
     "output_type": "stream",
     "text": [
      "how old are you? 21\n",
      "you can enter\n"
     ]
    }
   ],
   "source": [
    "age=int(input(\"how old are you? \"))\n",
    "if age >=13 :\n",
    "    print (\"you can enter\")\n",
    "else:\n",
    "    print (\"you cannot enter\")"
   ]
  },
  {
   "cell_type": "code",
   "execution_count": 22,
   "id": "c463f25e",
   "metadata": {},
   "outputs": [
    {
     "name": "stdout",
     "output_type": "stream",
     "text": [
      "how old are you? 14\n",
      "you can enter \n"
     ]
    }
   ],
   "source": [
    "age=int(input(\"how old are you? \"))\n",
    "if age >=13:\n",
    "    print (\"you can enter \") \n",
    "else:\n",
    "    print (\"you cannot enter\")"
   ]
  },
  {
   "cell_type": "code",
   "execution_count": 26,
   "id": "15f9bc02",
   "metadata": {},
   "outputs": [
    {
     "name": "stdout",
     "output_type": "stream",
     "text": [
      "how old are you? 59\n",
      "you can enter\n"
     ]
    }
   ],
   "source": [
    "age=int(input(\"how old are you? \"))\n",
    "if age >=60 :\n",
    "    print(\"you cannot enter\")\n",
    "else:\n",
    "    print (\"you can enter\")\n"
   ]
  },
  {
   "cell_type": "markdown",
   "id": "63c3a022",
   "metadata": {},
   "source": [
    "#### gender?"
   ]
  },
  {
   "cell_type": "code",
   "execution_count": 29,
   "id": "2acc6296",
   "metadata": {},
   "outputs": [
    {
     "name": "stdout",
     "output_type": "stream",
     "text": [
      "are you male or female?male\n",
      "you must pay the full amount\n"
     ]
    }
   ],
   "source": [
    "gender=input(\"are you male or female?\")\n",
    "if (gender==\"female\"):\n",
    "    print(\"you can travel for free\" )\n",
    "else:\n",
    "    print(\"you must pay the full amount\")"
   ]
  },
  {
   "cell_type": "code",
   "execution_count": 30,
   "id": "cccb0e77",
   "metadata": {},
   "outputs": [
    {
     "name": "stdout",
     "output_type": "stream",
     "text": [
      "are you male or female?female\n",
      "you can travel for free\n"
     ]
    }
   ],
   "source": [
    "gender=input(\"are you male or female?\")\n",
    "if (gender==\"female\"):\n",
    "    print(\"you can travel for free\" )\n",
    "else:\n",
    "    print(\"you must pay the full amount\")"
   ]
  },
  {
   "cell_type": "code",
   "execution_count": 32,
   "id": "e8697921",
   "metadata": {},
   "outputs": [
    {
     "name": "stdout",
     "output_type": "stream",
     "text": [
      "are you male or female?others\n",
      "you must pay half of amount\n"
     ]
    }
   ],
   "source": [
    "gender=input(\"are you male or female?\")\n",
    "if (gender==\"female\"):\n",
    "    print(\"you can travel for free\" )\n",
    "elif gender==\"others\":\n",
    "    print(\"you must pay half of amount\")\n",
    "else:\n",
    "    print(\"you must pay the full amount\")"
   ]
  },
  {
   "cell_type": "markdown",
   "id": "02eab11c",
   "metadata": {},
   "source": [
    "### postive and negative"
   ]
  },
  {
   "cell_type": "markdown",
   "id": "6e05971a",
   "metadata": {
    "scrolled": true
   },
   "source": [
    " >0 : positive\n",
    " <0 : negative\n",
    "  0 : zero"
   ]
  },
  {
   "cell_type": "code",
   "execution_count": 33,
   "id": "6c14d89a",
   "metadata": {},
   "outputs": [
    {
     "name": "stdout",
     "output_type": "stream",
     "text": [
      "enter the number2\n",
      "positive\n"
     ]
    }
   ],
   "source": [
    "number=int(input(\"enter the number\"))\n",
    "if number >0:\n",
    "    print (\"positive\")\n",
    "else :\n",
    "    print(\"negative\")"
   ]
  },
  {
   "cell_type": "code",
   "execution_count": 32,
   "id": "9e4990b8",
   "metadata": {},
   "outputs": [
    {
     "name": "stdout",
     "output_type": "stream",
     "text": [
      "enter the number0\n",
      "negative\n"
     ]
    }
   ],
   "source": [
    "number=int(input(\"enter the number\"))\n",
    "if number >0:\n",
    "    print (\"positive\")\n",
    "else :\n",
    "    print(\"negative\")"
   ]
  },
  {
   "cell_type": "markdown",
   "id": "09185fb5",
   "metadata": {},
   "source": [
    "### odd or even"
   ]
  },
  {
   "cell_type": "code",
   "execution_count": null,
   "id": "b7c093ac",
   "metadata": {},
   "outputs": [],
   "source": [
    "num=int(input(\"enter a number\"))\n",
    "if x% 2 == 0:\n",
    "    print(\"even\")\n",
    "else:\n",
    "    print (\"odd\")"
   ]
  },
  {
   "cell_type": "code",
   "execution_count": 3,
   "id": "b5bbdf2d",
   "metadata": {},
   "outputs": [
    {
     "name": "stdout",
     "output_type": "stream",
     "text": [
      "enter a number75\n",
      "odd\n"
     ]
    }
   ],
   "source": [
    "x=int(input(\"enter a number\"))\n",
    "if x % 2 == 0:\n",
    "    print(\"even\")\n",
    "else:\n",
    "    print (\"odd\")"
   ]
  },
  {
   "cell_type": "markdown",
   "id": "5ddee875",
   "metadata": {},
   "source": [
    "## nested if"
   ]
  },
  {
   "cell_type": "code",
   "execution_count": 29,
   "id": "f3ffc63b",
   "metadata": {},
   "outputs": [
    {
     "name": "stdout",
     "output_type": "stream",
     "text": [
      "how old are you? 12\n",
      "you cannot enter inside\n"
     ]
    }
   ],
   "source": [
    "age=int(input(\"how old are you? \"))\n",
    "if age>= 13:\n",
    "    if age <= 60:\n",
    "        print(\"you can enter\", age)\n",
    "    else:\n",
    "        print(\"you cannot enter\",age)\n",
    "else:\n",
    "    print(\"you cannot enter inside\")"
   ]
  },
  {
   "cell_type": "code",
   "execution_count": 30,
   "id": "aa2c1414",
   "metadata": {},
   "outputs": [
    {
     "name": "stdout",
     "output_type": "stream",
     "text": [
      "how old are you? 83\n",
      "you cannot enter 83\n"
     ]
    }
   ],
   "source": [
    "age=int(input(\"how old are you? \"))\n",
    "if age>= 13:\n",
    "    if age <= 60:\n",
    "        print(\"you can enter\", age)\n",
    "    else:\n",
    "        print(\"you cannot enter\",age)\n",
    "else:\n",
    "    print(\"you cannot enter inside\")"
   ]
  },
  {
   "cell_type": "code",
   "execution_count": 34,
   "id": "2cec410c",
   "metadata": {},
   "outputs": [
    {
     "name": "stdout",
     "output_type": "stream",
     "text": [
      "how old are you? 16\n",
      "you can enter 16\n"
     ]
    }
   ],
   "source": [
    "age=int(input(\"how old are you? \"))\n",
    "if age>= 13:\n",
    "    if age <= 60:\n",
    "        print(\"you can enter\", age)\n",
    "    else:\n",
    "        print(\"you cannot enter\",age)\n",
    "else:\n",
    "    print(\"you cannot enter inside\")"
   ]
  },
  {
   "cell_type": "code",
   "execution_count": 35,
   "id": "d9b1cbbe",
   "metadata": {},
   "outputs": [
    {
     "name": "stdout",
     "output_type": "stream",
     "text": [
      "you have entered a wrong input\n"
     ]
    }
   ],
   "source": [
    "age=int(input(\"how old are you? \"))\n",
    "if age>= 13:\n",
    "    if age <= 60:\n",
    "        print(\"you can enter\", age)\n",
    "    else:\n",
    "        print(\"you cannot enter\",age)\n",
    "else:\n",
    "    print(\"you cannot enter inside\")"
   ]
  },
  {
   "cell_type": "code",
   "execution_count": 44,
   "id": "6a7d6a09",
   "metadata": {},
   "outputs": [
    {
     "name": "stdout",
     "output_type": "stream",
     "text": [
      "this is your name\n"
     ]
    }
   ],
   "source": [
    "i=14\n",
    "name=345\n",
    "if i==14:\n",
    "    if type(\"name\")==str:\n",
    "        print(\"this is your name\")\n",
    "    else:\n",
    "        print(\"you are entered a wrong input\")\n",
    "else:\n",
    "    print(\"this is a wrong statement\")\n",
    "    "
   ]
  },
  {
   "cell_type": "code",
   "execution_count": 45,
   "id": "cd7c4f19",
   "metadata": {},
   "outputs": [
    {
     "name": "stdout",
     "output_type": "stream",
     "text": [
      "this is a wrong statement\n"
     ]
    }
   ],
   "source": [
    "i=140\n",
    "name=345\n",
    "if i==14:\n",
    "    if type(\"name\")==str:\n",
    "        print(\"this is your name\")\n",
    "    else:\n",
    "        print(\"you are entered a wrong input\")\n",
    "else:\n",
    "    print(\"this is a wrong statement\")"
   ]
  },
  {
   "cell_type": "markdown",
   "id": "7e0ac000",
   "metadata": {},
   "source": [
    "##### q-write a programme to calculate electricity bill (accept unit from user) according to the given criteria\n"
   ]
  },
  {
   "cell_type": "code",
   "execution_count": null,
   "id": "c4aab6b7",
   "metadata": {},
   "outputs": [],
   "source": [
    " unit               price\n",
    "  first 100 units      free of cost(0)\n",
    "  next 100 units       rs 5 per unit\n",
    "  after 200 units      rs 10 per unit"
   ]
  },
  {
   "cell_type": "code",
   "execution_count": 17,
   "id": "8ff629fe",
   "metadata": {},
   "outputs": [
    {
     "name": "stdout",
     "output_type": "stream",
     "text": [
      "enter number of units?300\n",
      "you total amount of due to pay 500000\n"
     ]
    }
   ],
   "source": [
    "amt=0\n",
    "nu=int(input(\"enter number of units?\"))\n",
    "if nu <= 100:\n",
    "    amt=0\n",
    "elif nu >100 and nu <=200:\n",
    "    amt=(nu-100)*5\n",
    "elif nu>200:\n",
    "    amt=500 *(nu-100)*5\n",
    "else:\n",
    "    print(\"enter a valid number\")\n",
    "print(\"you total amount of due to pay\",amt)"
   ]
  },
  {
   "cell_type": "code",
   "execution_count": null,
   "id": "3ba91705",
   "metadata": {},
   "outputs": [],
   "source": []
  },
  {
   "cell_type": "markdown",
   "id": "71d44dc6",
   "metadata": {},
   "source": [
    "#### write a program to display the last digit of a number\n"
   ]
  },
  {
   "cell_type": "code",
   "execution_count": 41,
   "id": "812d6743",
   "metadata": {},
   "outputs": [
    {
     "name": "stdout",
     "output_type": "stream",
     "text": [
      "enter a number456\n",
      "last digit of your number 6\n"
     ]
    }
   ],
   "source": [
    "#num%10 modulus method\n",
    "num=int(input(\"enter a number\"))\n",
    "print(\"last digit of your number\",num%10)"
   ]
  },
  {
   "cell_type": "markdown",
   "id": "c0e8237c",
   "metadata": {},
   "source": [
    "##### Q-kerala govt has decided to give loans to the students who older than 20 and who score 80 in final test"
   ]
  },
  {
   "cell_type": "code",
   "execution_count": 10,
   "id": "160fc344",
   "metadata": {},
   "outputs": [
    {
     "name": "stdout",
     "output_type": "stream",
     "text": [
      "enter age of the student 21\n",
      "enter total score of the student 88\n",
      "you are eligible for students loan \n"
     ]
    }
   ],
   "source": [
    "age=int(input(\"enter age of the student \"))\n",
    "score=int(input(\"enter total score of the student \"))\n",
    "if age>=20 and score>=80 :\n",
    "    print(\"you are eligible for students loan \")\n",
    "else:\n",
    "    print(\"you are not eligible for students loan\")"
   ]
  },
  {
   "cell_type": "code",
   "execution_count": 1,
   "id": "6218b04e",
   "metadata": {},
   "outputs": [
    {
     "name": "stdout",
     "output_type": "stream",
     "text": [
      "enter age of the student 19\n",
      "enter total score of the student 80\n",
      "you are not eligible for students loan\n"
     ]
    }
   ],
   "source": [
    "age=int(input(\"enter age of the student \"))\n",
    "score=int(input(\"enter total score of the student \"))\n",
    "if age>=20 and score>=80 :\n",
    "    print(\"you are eligible for students loan \")\n",
    "else:\n",
    "    print(\"you are not eligible for students loan\")"
   ]
  },
  {
   "cell_type": "code",
   "execution_count": 2,
   "id": "dcda931f",
   "metadata": {},
   "outputs": [
    {
     "name": "stdout",
     "output_type": "stream",
     "text": [
      "enter age of the student 20\n",
      "enter total score of the student 79\n",
      "you are not eligible for students loan\n"
     ]
    }
   ],
   "source": [
    "age=int(input(\"enter age of the student \"))\n",
    "score=int(input(\"enter total score of the student \"))\n",
    "if age>=20 and score>=80 :\n",
    "    print(\"you are eligible for students loan \")\n",
    "else:\n",
    "    print(\"you are not eligible for students loan\")"
   ]
  },
  {
   "cell_type": "markdown",
   "id": "5330a4e9",
   "metadata": {},
   "source": [
    "### age"
   ]
  },
  {
   "cell_type": "code",
   "execution_count": 46,
   "id": "0d74c5c1",
   "metadata": {},
   "outputs": [
    {
     "name": "stdout",
     "output_type": "stream",
     "text": [
      "enter your age56\n",
      "66\n"
     ]
    }
   ],
   "source": [
    "age=int(input(\"enter your age\" ))\n",
    "if age<=100:\n",
    "    age=age+10\n",
    "    print (age)\n",
    "    \n"
   ]
  },
  {
   "cell_type": "code",
   "execution_count": 47,
   "id": "f5e2f4ba",
   "metadata": {},
   "outputs": [],
   "source": [
    "#50\n",
    "#0\n",
    "#0/3"
   ]
  },
  {
   "cell_type": "code",
   "execution_count": 54,
   "id": "d3cd77d0",
   "metadata": {},
   "outputs": [
    {
     "name": "stdout",
     "output_type": "stream",
     "text": [
      "enter a number25\n",
      "it is not divisible\n"
     ]
    }
   ],
   "source": [
    "num=int(input(\"enter a number\"))\n",
    "ld=num%10\n",
    "if ld % 3 ==0:\n",
    "    print(\"this num can be divided by 3\")\n",
    "else:\n",
    "    print(\"it is not divisible\")"
   ]
  },
  {
   "cell_type": "code",
   "execution_count": 3,
   "id": "94e1c5c0",
   "metadata": {},
   "outputs": [
    {
     "name": "stdout",
     "output_type": "stream",
     "text": [
      "go and watch the movie\n"
     ]
    }
   ],
   "source": [
    "ticket=1\n",
    "if ticket ==1:\n",
    "    print(\"go and watch the movie\")\n",
    "else:\n",
    "    print(\"get your ticket\")"
   ]
  },
  {
   "cell_type": "code",
   "execution_count": 6,
   "id": "d76447b5",
   "metadata": {},
   "outputs": [
    {
     "name": "stdout",
     "output_type": "stream",
     "text": [
      "if you have ticket or not1\n",
      "enter your age4\n",
      "go and watch the movie\n"
     ]
    }
   ],
   "source": [
    "ticket=int(input(\"if you have ticket or not\"))\n",
    "age=int(input('enter your age'))\n",
    "if ticket ==1:\n",
    "    print(\"go and watch the movie\")\n",
    "elif  ticket !=1 and age <=3:\n",
    "    print(\"go and watch the movie\")\n",
    "else:\n",
    "    print(\"get your ticket\")"
   ]
  },
  {
   "cell_type": "code",
   "execution_count": 8,
   "id": "b4e41d40",
   "metadata": {},
   "outputs": [
    {
     "name": "stdout",
     "output_type": "stream",
     "text": [
      "if you have ticket or not0\n",
      "enter your age2\n",
      "get your ticket\n"
     ]
    }
   ],
   "source": [
    "ticket=int(input(\"if you have ticket or not\"))\n",
    "age=int(input('enter your age'))\n",
    "if ticket ==1:\n",
    "    print(\"go and watch the movie\")\n",
    "    if  ticket !=1 and age <=3:\n",
    "        print(\"go and watch the movie\")\n",
    "else:\n",
    "    print(\"get your ticket\")"
   ]
  },
  {
   "cell_type": "markdown",
   "id": "7eae8221",
   "metadata": {},
   "source": [
    "## loops"
   ]
  },
  {
   "cell_type": "code",
   "execution_count": 9,
   "id": "30be52ff",
   "metadata": {},
   "outputs": [
    {
     "name": "stdout",
     "output_type": "stream",
     "text": [
      "1\n",
      "2\n"
     ]
    }
   ],
   "source": [
    "print(1)\n",
    "print(2)"
   ]
  },
  {
   "cell_type": "markdown",
   "id": "45a02e67",
   "metadata": {},
   "source": [
    "#### for loop"
   ]
  },
  {
   "cell_type": "markdown",
   "id": "af08188d",
   "metadata": {},
   "source": [
    "#### a for loop is is used for iterating over a sequence"
   ]
  },
  {
   "cell_type": "markdown",
   "id": "3b6aa90e",
   "metadata": {},
   "source": [
    "##### in operator used for membership.wheather to check the number or name is in the list"
   ]
  },
  {
   "cell_type": "code",
   "execution_count": 11,
   "id": "9f93d9e6",
   "metadata": {},
   "outputs": [],
   "source": [
    "#\"for\" is the keyword of loop"
   ]
  },
  {
   "cell_type": "code",
   "execution_count": 12,
   "id": "b63864d4",
   "metadata": {},
   "outputs": [
    {
     "name": "stdout",
     "output_type": "stream",
     "text": [
      "apple,mango,orange,banana\n"
     ]
    }
   ],
   "source": [
    "fruits={\"apple,mango,orange,banana\"}\n",
    "for x in fruits:\n",
    "    print(x)"
   ]
  },
  {
   "cell_type": "code",
   "execution_count": 17,
   "id": "c7d59a6d",
   "metadata": {},
   "outputs": [],
   "source": [
    "name=\"vishwanathan iyer\"\n"
   ]
  },
  {
   "cell_type": "code",
   "execution_count": 18,
   "id": "822377f3",
   "metadata": {},
   "outputs": [
    {
     "name": "stdout",
     "output_type": "stream",
     "text": [
      "v\n",
      "i\n",
      "s\n",
      "h\n",
      "w\n",
      "a\n",
      "n\n",
      "a\n",
      "t\n",
      "h\n",
      "a\n",
      "n\n",
      " \n",
      "i\n",
      "y\n",
      "e\n",
      "r\n"
     ]
    }
   ],
   "source": [
    "for n in name:\n",
    "    print(n)"
   ]
  },
  {
   "cell_type": "code",
   "execution_count": 19,
   "id": "291d2b07",
   "metadata": {},
   "outputs": [
    {
     "name": "stdout",
     "output_type": "stream",
     "text": [
      "v\n",
      "i\n",
      "s\n",
      "h\n",
      "w\n",
      "a\n",
      "n\n",
      "a\n",
      "t\n",
      "h\n",
      "a\n",
      "n\n",
      " \n",
      "i\n",
      "y\n",
      "e\n",
      "r\n"
     ]
    }
   ],
   "source": [
    "name=\"vishwanathan iyer\"\n",
    "for n in name:\n",
    "    print(n)"
   ]
  },
  {
   "cell_type": "code",
   "execution_count": 20,
   "id": "103d1153",
   "metadata": {},
   "outputs": [
    {
     "name": "stdout",
     "output_type": "stream",
     "text": [
      "14\n",
      "25\n",
      "16\n",
      "17\n",
      "18\n",
      "19\n",
      "20\n"
     ]
    }
   ],
   "source": [
    "age=[14,25,16,17,18,19,20]\n",
    "for age in age:\n",
    "    print(age)"
   ]
  },
  {
   "cell_type": "code",
   "execution_count": 24,
   "id": "e63a53d1",
   "metadata": {},
   "outputs": [
    {
     "data": {
      "text/plain": [
       "[14, 25, 16, 17, 18, 19, 20]"
      ]
     },
     "execution_count": 24,
     "metadata": {},
     "output_type": "execute_result"
    }
   ],
   "source": [
    "age=[14,25,16,17,18,19,20]\n",
    "age"
   ]
  },
  {
   "cell_type": "code",
   "execution_count": 37,
   "id": "85e80715",
   "metadata": {},
   "outputs": [
    {
     "ename": "SyntaxError",
     "evalue": "invalid syntax (3913327755.py, line 1)",
     "output_type": "error",
     "traceback": [
      "\u001b[1;36m  Cell \u001b[1;32mIn[37], line 1\u001b[1;36m\u001b[0m\n\u001b[1;33m    new age=[]\u001b[0m\n\u001b[1;37m        ^\u001b[0m\n\u001b[1;31mSyntaxError\u001b[0m\u001b[1;31m:\u001b[0m invalid syntax\n"
     ]
    }
   ],
   "source": [
    "new age=[]\n",
    "for ages in age:\n",
    "    newage.append(ages*2)\n",
    "print(newage)"
   ]
  },
  {
   "cell_type": "code",
   "execution_count": 33,
   "id": "ad13241a",
   "metadata": {},
   "outputs": [
    {
     "data": {
      "text/plain": [
       "[14, 25, 16, 17, 18, 19, 20, 'cindrella', 'cindrella', 'cindrella']"
      ]
     },
     "execution_count": 33,
     "metadata": {},
     "output_type": "execute_result"
    }
   ],
   "source": [
    "age"
   ]
  },
  {
   "cell_type": "code",
   "execution_count": 40,
   "id": "cdb27946",
   "metadata": {},
   "outputs": [
    {
     "name": "stdout",
     "output_type": "stream",
     "text": [
      "[11000, 21000, 16000, 26000, 36000]\n"
     ]
    }
   ],
   "source": [
    "salary=[10000,20000,15000,25000,35000]\n",
    "newsalary=[]\n",
    "for sal in salary:\n",
    "    newsalary.append(sal+1000)\n",
    "print(newsalary)"
   ]
  },
  {
   "cell_type": "code",
   "execution_count": 52,
   "id": "3d959712",
   "metadata": {},
   "outputs": [
    {
     "name": "stdout",
     "output_type": "stream",
     "text": [
      "[10]\n",
      "[10, 20]\n",
      "[10, 20, 30]\n",
      "[10, 20, 30, 40]\n",
      "[10, 20, 30, 40, 50]\n",
      "[10, 20, 30, 40, 50, 60]\n"
     ]
    }
   ],
   "source": [
    "mylist=[1,2,3,4,5,6]\n",
    "new_list=[]\n",
    "for value in mylist:\n",
    "    new_list.append(value*10)\n",
    "    print(new_list)"
   ]
  },
  {
   "cell_type": "code",
   "execution_count": 53,
   "id": "4a6fa337",
   "metadata": {},
   "outputs": [],
   "source": [
    "mylist=[1,2,3,4,5,6]"
   ]
  },
  {
   "cell_type": "code",
   "execution_count": 56,
   "id": "26f15a17",
   "metadata": {},
   "outputs": [
    {
     "name": "stdout",
     "output_type": "stream",
     "text": [
      "1\n",
      "2\n",
      "3\n",
      "4\n",
      "5\n",
      "6\n"
     ]
    }
   ],
   "source": [
    "for element in mylist:\n",
    "    print(element)"
   ]
  },
  {
   "cell_type": "code",
   "execution_count": 57,
   "id": "f84efa89",
   "metadata": {},
   "outputs": [],
   "source": [
    "list2=[1,2,4,5,\"baby\",\"zombie\",\"fishy\",\"soman\",56,78,99]"
   ]
  },
  {
   "cell_type": "code",
   "execution_count": 58,
   "id": "14274daf",
   "metadata": {},
   "outputs": [
    {
     "data": {
      "text/plain": [
       "[1, 2, 4, 5, 'baby', 'zombie', 'fishy', 'soman', 56, 78, 99]"
      ]
     },
     "execution_count": 58,
     "metadata": {},
     "output_type": "execute_result"
    }
   ],
   "source": [
    "list2"
   ]
  },
  {
   "cell_type": "code",
   "execution_count": 62,
   "id": "953b6b64",
   "metadata": {},
   "outputs": [
    {
     "name": "stdout",
     "output_type": "stream",
     "text": [
      "[1]\n",
      "[1, 2]\n",
      "[1, 2, 4]\n",
      "[1, 2, 4, 5]\n",
      "[1, 2, 4, 5, 56]\n",
      "[1, 2, 4, 5, 56, 78]\n",
      "[1, 2, 4, 5, 56, 78, 99]\n"
     ]
    }
   ],
   "source": [
    "numberlist=[]\n",
    "for i in list2:\n",
    "    if type(i) ==int:\n",
    "        numberlist.append(i)\n",
    "        print(numberlist)"
   ]
  },
  {
   "cell_type": "code",
   "execution_count": 66,
   "id": "5bf89e51",
   "metadata": {},
   "outputs": [
    {
     "name": "stdout",
     "output_type": "stream",
     "text": [
      "['jishnu', 'karthika', 'basila', 'binjus', 'shabna', 'amal', 'lena', 'rashi', 'shehma']\n"
     ]
    }
   ],
   "source": [
    "codeme=[.3,0.5,.78,\"jishnu\",\"karthika\",\"basila\",\"binjus\",\"shabna\",\"amal\",\"lena\",\"rashi\",\"shehma\",22,56,78,90]\n",
    "memberslist=[]\n",
    "for names in codeme:\n",
    "    if type(names)==str:\n",
    "        memberslist.append(names)\n",
    "print(memberslist)"
   ]
  },
  {
   "cell_type": "code",
   "execution_count": 3,
   "id": "fbf7cd57",
   "metadata": {},
   "outputs": [
    {
     "name": "stdout",
     "output_type": "stream",
     "text": [
      "['delhi', 'berlin', 'tokyo', 'beijing', 'algers']\n",
      "[230000, 300000, 600000, 780000, 890000]\n"
     ]
    }
   ],
   "source": [
    "countrypop=[\"delhi\",\"berlin\",\"tokyo\",\"beijing\",\"algers\",230000,300000,600000,780000,890000]\n",
    "countrylist=[]\n",
    "populationlist=[]\n",
    "for capital in countrypop:\n",
    "    if type(capital)==str:\n",
    "        countrylist.append(capital)\n",
    "    elif type(capital)==int:\n",
    "        populationlist.append(capital)\n",
    "print(countrylist)\n",
    "print(populationlist)"
   ]
  },
  {
   "cell_type": "markdown",
   "id": "3c74a477",
   "metadata": {},
   "source": [
    "## oddd or even"
   ]
  },
  {
   "cell_type": "markdown",
   "id": "292e7c04",
   "metadata": {},
   "source": [
    "#### create a new with odd and even values,then from the given list create a new list with odd values and even values"
   ]
  },
  {
   "cell_type": "code",
   "execution_count": 21,
   "id": "880a8350",
   "metadata": {},
   "outputs": [
    {
     "name": "stdout",
     "output_type": "stream",
     "text": [
      "[12, 14, 16, 24, 26, 28, 22, 44, 66, 88]\n",
      "[13, 15, 23, 25, 29, 27, 11, 33, 55, 77, 99]\n"
     ]
    }
   ],
   "source": [
    "x=[12,13,14,15,16,23,24,25,26,29,27,28,11,22,33,44,55,66,77,88,99]\n",
    "even=[]\n",
    "odd=[]\n",
    "for i in x:\n",
    "    if (i%2==0):\n",
    "        even.append(i)\n",
    "    elif(i):\n",
    "        odd.append(i)\n",
    "print(even)\n",
    "print(odd)\n",
    "    \n",
    "    "
   ]
  },
  {
   "cell_type": "code",
   "execution_count": 1,
   "id": "251462da",
   "metadata": {},
   "outputs": [
    {
     "name": "stdout",
     "output_type": "stream",
     "text": [
      "[12, 14, 16, 24, 26, 28, 22, 44, 66, 88]\n",
      "[13, 15, 23, 25, 29, 27, 11, 33, 55, 77, 99]\n"
     ]
    }
   ],
   "source": [
    "x=[12,13,14,15,16,23,24,25,26,29,27,28,11,22,33,44,55,66,77,88,99]\n",
    "even=[]\n",
    "odd=[]\n",
    "for value in x:\n",
    "    if value%2==0 :\n",
    "        even.append(value)\n",
    "    elif value%2 !=0 :\n",
    "        odd.append(value)\n",
    "print(even)\n",
    "print(odd)\n",
    "     "
   ]
  },
  {
   "cell_type": "markdown",
   "id": "33fe02ad",
   "metadata": {},
   "source": [
    "### break"
   ]
  },
  {
   "cell_type": "code",
   "execution_count": 3,
   "id": "287075d6",
   "metadata": {},
   "outputs": [],
   "source": [
    "mylist=[1,2,3,4,5,6,7,8,9,\"sona\",\"pintu\",\"mintu\",\"tintu\",\"sanju\"]"
   ]
  },
  {
   "cell_type": "code",
   "execution_count": 4,
   "id": "48b5d6d8",
   "metadata": {},
   "outputs": [
    {
     "name": "stdout",
     "output_type": "stream",
     "text": [
      "1\n",
      "2\n",
      "3\n",
      "4\n",
      "5\n",
      "6\n",
      "7\n",
      "8\n",
      "9\n",
      "sona\n",
      "pintu\n",
      "mintu\n",
      "tintu\n",
      "sanju\n"
     ]
    }
   ],
   "source": [
    "for x in mylist:\n",
    "    print(x)"
   ]
  },
  {
   "cell_type": "code",
   "execution_count": 6,
   "id": "30f77c69",
   "metadata": {},
   "outputs": [
    {
     "name": "stdout",
     "output_type": "stream",
     "text": [
      "1\n",
      "2\n",
      "3\n",
      "4\n",
      "5\n",
      "6\n",
      "7\n",
      "8\n"
     ]
    }
   ],
   "source": [
    "for x in mylist:\n",
    "    if x==9:\n",
    "        break\n",
    "    print(x)"
   ]
  },
  {
   "cell_type": "code",
   "execution_count": 7,
   "id": "b745a3dd",
   "metadata": {},
   "outputs": [
    {
     "data": {
      "text/plain": [
       "[1, 2, 3, 4, 5, 6, 7, 8, 9, 'sona', 'pintu', 'mintu', 'tintu', 'sanju']"
      ]
     },
     "execution_count": 7,
     "metadata": {},
     "output_type": "execute_result"
    }
   ],
   "source": [
    "mylist"
   ]
  },
  {
   "cell_type": "code",
   "execution_count": 8,
   "id": "c4045222",
   "metadata": {},
   "outputs": [
    {
     "name": "stdout",
     "output_type": "stream",
     "text": [
      "1\n",
      "2\n",
      "3\n",
      "4\n",
      "5\n",
      "6\n",
      "7\n",
      "8\n",
      "9\n",
      "sona\n",
      "pintu\n",
      "mintu\n",
      "tintu\n",
      "sanju\n",
      "you are out of loop\n"
     ]
    }
   ],
   "source": [
    "for i in mylist:\n",
    "    print(i)\n",
    "else:\n",
    "    print(\"you are out of loop\")"
   ]
  },
  {
   "cell_type": "code",
   "execution_count": 11,
   "id": "df4df263",
   "metadata": {},
   "outputs": [
    {
     "name": "stdout",
     "output_type": "stream",
     "text": [
      "1\n",
      "2\n",
      "3\n",
      "4\n",
      "5\n",
      "6\n",
      "7\n",
      "8\n"
     ]
    }
   ],
   "source": [
    "for i in mylist:\n",
    "    if i==9:\n",
    "        break\n",
    "    print(i)\n",
    "else:\n",
    "    print(\"you are out of loop\")"
   ]
  },
  {
   "cell_type": "code",
   "execution_count": 12,
   "id": "40b76c3b",
   "metadata": {},
   "outputs": [
    {
     "name": "stdout",
     "output_type": "stream",
     "text": [
      "exit from condition\n"
     ]
    }
   ],
   "source": [
    "x=10\n",
    "if x==5:\n",
    "    print(\"testing\")\n",
    "else:\n",
    "    print(\"exit from condition\")"
   ]
  },
  {
   "cell_type": "code",
   "execution_count": 13,
   "id": "a2a68602",
   "metadata": {},
   "outputs": [],
   "source": [
    "newlist=[1,3,5,7,9,11,13,15,17,19,21,23,25,27]"
   ]
  },
  {
   "cell_type": "code",
   "execution_count": 15,
   "id": "8b00e4e8",
   "metadata": {},
   "outputs": [
    {
     "name": "stdout",
     "output_type": "stream",
     "text": [
      "1\n",
      "3\n",
      "5\n",
      "7\n",
      "9\n",
      "11\n",
      "13\n",
      "15\n",
      "17\n",
      "19\n",
      "21\n"
     ]
    }
   ],
   "source": [
    "for i in newlist:\n",
    "    if i==23:\n",
    "        break\n",
    "    print(i)"
   ]
  },
  {
   "cell_type": "code",
   "execution_count": 16,
   "id": "498a66c0",
   "metadata": {},
   "outputs": [
    {
     "data": {
      "text/plain": [
       "[1, 3, 5, 7, 9, 11, 13, 15, 17, 19, 21, 23, 25, 27]"
      ]
     },
     "execution_count": 16,
     "metadata": {},
     "output_type": "execute_result"
    }
   ],
   "source": [
    "newlist"
   ]
  },
  {
   "cell_type": "code",
   "execution_count": 17,
   "id": "1448ca19",
   "metadata": {},
   "outputs": [
    {
     "name": "stdout",
     "output_type": "stream",
     "text": [
      "1\n",
      "3\n",
      "5\n",
      "7\n",
      "9\n",
      "11\n",
      "13\n",
      "17\n",
      "19\n",
      "21\n",
      "23\n",
      "25\n",
      "27\n",
      "you are out of loop\n"
     ]
    }
   ],
   "source": [
    "for i in newlist:\n",
    "    if i==15:\n",
    "        continue\n",
    "    print(i)\n",
    "else:\n",
    "    print(\"you are out of loop\")\n",
    "        "
   ]
  },
  {
   "cell_type": "code",
   "execution_count": 22,
   "id": "202fc269",
   "metadata": {},
   "outputs": [
    {
     "name": "stdout",
     "output_type": "stream",
     "text": [
      "1\n",
      "3\n",
      "5\n",
      "7\n",
      "9\n"
     ]
    }
   ],
   "source": [
    "test2=[1,3,5,7,9,11,59]\n",
    "for i in test2:\n",
    "    if i>10:\n",
    "        continue\n",
    "    print(i)\n",
    "    "
   ]
  },
  {
   "cell_type": "code",
   "execution_count": 23,
   "id": "f5376600",
   "metadata": {},
   "outputs": [
    {
     "data": {
      "text/plain": [
       "[1, 3, 5, 7, 9, 11, 59]"
      ]
     },
     "execution_count": 23,
     "metadata": {},
     "output_type": "execute_result"
    }
   ],
   "source": [
    "test2"
   ]
  },
  {
   "cell_type": "code",
   "execution_count": 34,
   "id": "92aa9de1",
   "metadata": {},
   "outputs": [
    {
     "name": "stdout",
     "output_type": "stream",
     "text": [
      "11\n"
     ]
    }
   ],
   "source": [
    "for i in test2:\n",
    "    if i!=11:\n",
    "        continue\n",
    "    print(i)"
   ]
  },
  {
   "cell_type": "markdown",
   "id": "374bdca3",
   "metadata": {},
   "source": [
    "## range"
   ]
  },
  {
   "cell_type": "markdown",
   "id": "fb133ad5",
   "metadata": {},
   "source": [
    "#### range is used for number generation with a given criteria"
   ]
  },
  {
   "cell_type": "code",
   "execution_count": null,
   "id": "472cf1b6",
   "metadata": {},
   "outputs": [],
   "source": [
    "#inbuilt functions\n",
    "#print()\n",
    "#len()\n",
    "#type()"
   ]
  },
  {
   "cell_type": "code",
   "execution_count": 35,
   "id": "3cf5f1b6",
   "metadata": {},
   "outputs": [
    {
     "data": {
      "text/plain": [
       "range(1, 10)"
      ]
     },
     "execution_count": 35,
     "metadata": {},
     "output_type": "execute_result"
    }
   ],
   "source": [
    "range(1,10)"
   ]
  },
  {
   "cell_type": "code",
   "execution_count": 36,
   "id": "fb4e5ac6",
   "metadata": {},
   "outputs": [
    {
     "data": {
      "text/plain": [
       "[1, 2, 3, 4, 5, 6, 7, 8, 9]"
      ]
     },
     "execution_count": 36,
     "metadata": {},
     "output_type": "execute_result"
    }
   ],
   "source": [
    "list(range(1,10)) #start ,end-1"
   ]
  },
  {
   "cell_type": "code",
   "execution_count": 37,
   "id": "c3a1f84e",
   "metadata": {},
   "outputs": [
    {
     "name": "stdout",
     "output_type": "stream",
     "text": [
      "1\n",
      "2\n",
      "3\n",
      "4\n",
      "5\n",
      "6\n",
      "7\n",
      "8\n",
      "9\n"
     ]
    }
   ],
   "source": [
    "for i in range(1,10):\n",
    "    print(i)"
   ]
  },
  {
   "cell_type": "code",
   "execution_count": null,
   "id": "cf81eaea",
   "metadata": {},
   "outputs": [],
   "source": [
    "#generators and iterators"
   ]
  },
  {
   "cell_type": "code",
   "execution_count": 38,
   "id": "e89a9139",
   "metadata": {},
   "outputs": [
    {
     "name": "stdout",
     "output_type": "stream",
     "text": [
      "0\n",
      "1\n",
      "2\n",
      "3\n",
      "4\n",
      "5\n",
      "6\n",
      "7\n",
      "8\n",
      "9\n"
     ]
    }
   ],
   "source": [
    "for i in range(10):\n",
    "    print(i)"
   ]
  },
  {
   "cell_type": "code",
   "execution_count": 39,
   "id": "e84fd865",
   "metadata": {},
   "outputs": [
    {
     "data": {
      "text/plain": [
       "[20,\n",
       " 21,\n",
       " 22,\n",
       " 23,\n",
       " 24,\n",
       " 25,\n",
       " 26,\n",
       " 27,\n",
       " 28,\n",
       " 29,\n",
       " 30,\n",
       " 31,\n",
       " 32,\n",
       " 33,\n",
       " 34,\n",
       " 35,\n",
       " 36,\n",
       " 37,\n",
       " 38,\n",
       " 39]"
      ]
     },
     "execution_count": 39,
     "metadata": {},
     "output_type": "execute_result"
    }
   ],
   "source": [
    "out=range(20,40)\n",
    "list(out)"
   ]
  },
  {
   "cell_type": "code",
   "execution_count": 41,
   "id": "d4861f72",
   "metadata": {},
   "outputs": [],
   "source": [
    "#range(start,end,step)"
   ]
  },
  {
   "cell_type": "code",
   "execution_count": 42,
   "id": "634fafc1",
   "metadata": {},
   "outputs": [
    {
     "data": {
      "text/plain": [
       "[20, 24, 28, 32, 36, 40, 44, 48]"
      ]
     },
     "execution_count": 42,
     "metadata": {},
     "output_type": "execute_result"
    }
   ],
   "source": [
    "list(range(20,50,4))"
   ]
  },
  {
   "cell_type": "code",
   "execution_count": 44,
   "id": "ae3e3775",
   "metadata": {},
   "outputs": [
    {
     "name": "stdout",
     "output_type": "stream",
     "text": [
      "20\n",
      "23\n",
      "26\n",
      "29\n",
      "32\n",
      "35\n",
      "38\n",
      "41\n",
      "44\n",
      "47\n"
     ]
    }
   ],
   "source": [
    "for i in range(20,50,3):\n",
    "    print(i)"
   ]
  },
  {
   "cell_type": "code",
   "execution_count": 45,
   "id": "ea9368b7",
   "metadata": {},
   "outputs": [
    {
     "name": "stdout",
     "output_type": "stream",
     "text": [
      "20\n",
      "23\n",
      "26\n",
      "29\n",
      "32\n",
      "35\n"
     ]
    }
   ],
   "source": [
    "for i in range(20,50,3):\n",
    "    if i==38:\n",
    "        break\n",
    "    print(i)"
   ]
  },
  {
   "cell_type": "code",
   "execution_count": 46,
   "id": "325fda31",
   "metadata": {},
   "outputs": [
    {
     "name": "stdout",
     "output_type": "stream",
     "text": [
      "20\n",
      "23\n",
      "26\n",
      "29\n",
      "32\n",
      "35\n",
      "41\n",
      "44\n",
      "47\n"
     ]
    }
   ],
   "source": [
    "for i in range(20,50,3):\n",
    "    if i==38:\n",
    "        continue\n",
    "    print(i)"
   ]
  },
  {
   "cell_type": "code",
   "execution_count": 47,
   "id": "0480f0c8",
   "metadata": {},
   "outputs": [
    {
     "data": {
      "text/plain": [
       "[1, 2, 3, 4, 5, 6, 7, 8, 9, 'sona', 'pintu', 'mintu', 'tintu', 'sanju']"
      ]
     },
     "execution_count": 47,
     "metadata": {},
     "output_type": "execute_result"
    }
   ],
   "source": [
    "mylist"
   ]
  },
  {
   "cell_type": "code",
   "execution_count": 48,
   "id": "72b1ea6f",
   "metadata": {},
   "outputs": [
    {
     "data": {
      "text/plain": [
       "14"
      ]
     },
     "execution_count": 48,
     "metadata": {},
     "output_type": "execute_result"
    }
   ],
   "source": [
    "len(mylist)"
   ]
  },
  {
   "cell_type": "code",
   "execution_count": 49,
   "id": "93dd427d",
   "metadata": {},
   "outputs": [
    {
     "name": "stdout",
     "output_type": "stream",
     "text": [
      "0\n",
      "1\n",
      "2\n",
      "3\n",
      "4\n",
      "5\n",
      "6\n",
      "7\n",
      "8\n",
      "9\n",
      "10\n",
      "11\n",
      "12\n",
      "13\n"
     ]
    }
   ],
   "source": [
    "for i in range(len(mylist)):\n",
    "    print(i)"
   ]
  },
  {
   "cell_type": "code",
   "execution_count": 52,
   "id": "acd92f20",
   "metadata": {},
   "outputs": [
    {
     "name": "stdout",
     "output_type": "stream",
     "text": [
      "[5, 7, 17, 20, 29, 31, 36, 38, 41]\n",
      "['o', 'o', 'o', 'o', 'o', 'o', 'o', 'o', 'o']\n"
     ]
    }
   ],
   "source": [
    "word=\"pneumonoultramicroscopicsilicovolcanoconiosis\"\n",
    "word1=[]\n",
    "word2=[]\n",
    "for x in range(len(word)):\n",
    "    if word[x]==\"o\":\n",
    "        word1.append(x)\n",
    "        word2.append(word[x])\n",
    "print(word1,word2,sep=\"\\n\")\n",
    "    \n",
    "\n"
   ]
  },
  {
   "cell_type": "code",
   "execution_count": null,
   "id": "3f3a10f5",
   "metadata": {},
   "outputs": [],
   "source": []
  },
  {
   "cell_type": "code",
   "execution_count": 62,
   "id": "67002cbf",
   "metadata": {},
   "outputs": [
    {
     "name": "stdout",
     "output_type": "stream",
     "text": [
      "[1, 6]\n",
      "['n', 'n']\n"
     ]
    }
   ],
   "source": [
    "disease=\"pnuemonia\"\n",
    "listwithIdx=[]\n",
    "listwithvalue=[]\n",
    "for x in range(len(disease)):\n",
    "    #adding condition\n",
    "    if disease[x]==\"n\":\n",
    "        listwithIdx.append(x)\n",
    "        listwithvalue.append(disease[x])\n",
    "print(listwithIdx,listwithvalue,sep=\"\\n\")\n"
   ]
  },
  {
   "cell_type": "code",
   "execution_count": null,
   "id": "c5e7999e",
   "metadata": {},
   "outputs": [],
   "source": []
  },
  {
   "cell_type": "code",
   "execution_count": null,
   "id": "8ba0deba",
   "metadata": {},
   "outputs": [],
   "source": []
  },
  {
   "cell_type": "code",
   "execution_count": null,
   "id": "18e88e1f",
   "metadata": {},
   "outputs": [],
   "source": []
  },
  {
   "cell_type": "code",
   "execution_count": null,
   "id": "7cb69859",
   "metadata": {},
   "outputs": [],
   "source": []
  },
  {
   "cell_type": "code",
   "execution_count": null,
   "id": "8e0adae2",
   "metadata": {},
   "outputs": [],
   "source": []
  },
  {
   "cell_type": "code",
   "execution_count": null,
   "id": "bf59a01c",
   "metadata": {},
   "outputs": [],
   "source": []
  },
  {
   "cell_type": "code",
   "execution_count": null,
   "id": "95c61abb",
   "metadata": {},
   "outputs": [],
   "source": []
  },
  {
   "cell_type": "code",
   "execution_count": null,
   "id": "309bff95",
   "metadata": {},
   "outputs": [],
   "source": []
  },
  {
   "cell_type": "code",
   "execution_count": null,
   "id": "0a3afba9",
   "metadata": {},
   "outputs": [],
   "source": []
  },
  {
   "cell_type": "code",
   "execution_count": null,
   "id": "4ed3d915",
   "metadata": {},
   "outputs": [],
   "source": []
  },
  {
   "cell_type": "code",
   "execution_count": null,
   "id": "4885fc85",
   "metadata": {},
   "outputs": [],
   "source": []
  },
  {
   "cell_type": "code",
   "execution_count": null,
   "id": "a61d346d",
   "metadata": {},
   "outputs": [],
   "source": []
  },
  {
   "cell_type": "code",
   "execution_count": null,
   "id": "3fd16c58",
   "metadata": {},
   "outputs": [],
   "source": [
    "\n"
   ]
  }
 ],
 "metadata": {
  "kernelspec": {
   "display_name": "Python 3 (ipykernel)",
   "language": "python",
   "name": "python3"
  },
  "language_info": {
   "codemirror_mode": {
    "name": "ipython",
    "version": 3
   },
   "file_extension": ".py",
   "mimetype": "text/x-python",
   "name": "python",
   "nbconvert_exporter": "python",
   "pygments_lexer": "ipython3",
   "version": "3.10.9"
  }
 },
 "nbformat": 4,
 "nbformat_minor": 5
}
